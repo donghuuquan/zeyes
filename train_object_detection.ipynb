# ✅ Step 1: Cài đặt Ultralytics và Roboflow
!pip install ultralytics roboflow

# ✅ Step 2: Tải dataset từ Roboflow
from roboflow import Roboflow

# 🔧 THAY API KEY và thông tin project của bạn vào đây
rf = Roboflow(api_key="YOUR_API_KEY")
project = rf.workspace("your-workspace-name").project("your-project-name")
dataset = project.version(1).download("yolov8")

# ✅ Step 3: Train mô hình với YOLOv8
from ultralytics import YOLO

# Tải model base
model = YOLO("yolov8n.pt")  # hoặc yolov8s.pt nếu muốn mạnh hơn

# Huấn luyện
model.train(
    data=dataset.location + "/data.yaml",
    epochs=50,
    imgsz=640,
    batch=16
)

# ✅ Step 4: Kiểm thử mô hình đã train
model = YOLO("runs/detect/train/weights/best.pt")

# Dự đoán một ảnh
model.predict(dataset.location + "/valid/images/xxx.jpg", save=True)

# ✅ (Tùy chọn) Dự đoán video nếu bạn có
# model.predict("your_video.mp4", save=True)

# ✅ Step 5: Hiển thị kết quả ảnh (nếu muốn)
import cv2
import matplotlib.pyplot as plt

img = cv2.imread("runs/detect/predict/xxx.jpg")
plt.imshow(cv2.cvtColor(img, cv2.COLOR_BGR2RGB))
plt.axis('off')
plt.show()
